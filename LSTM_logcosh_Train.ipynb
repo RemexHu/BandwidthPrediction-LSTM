{
 "cells": [
  {
   "cell_type": "code",
   "execution_count": 1,
   "metadata": {},
   "outputs": [
    {
     "name": "stderr",
     "output_type": "stream",
     "text": [
      "/home/runchen/anaconda3/envs/tensorflow/lib/python3.5/site-packages/h5py/__init__.py:36: FutureWarning: Conversion of the second argument of issubdtype from `float` to `np.floating` is deprecated. In future, it will be treated as `np.float64 == np.dtype(float).type`.\n",
      "  from ._conv import register_converters as _register_converters\n",
      "Using TensorFlow backend.\n"
     ]
    },
    {
     "data": {
      "text/plain": [
       "<matplotlib.figure.Figure at 0x7fa64ed31b38>"
      ]
     },
     "metadata": {},
     "output_type": "display_data"
    }
   ],
   "source": [
    "\n",
    "import pandas\n",
    "import matplotlib.pyplot as plt\n",
    "import numpy\n",
    "import matplotlib.pyplot as plt\n",
    "import pandas\n",
    "import math\n",
    "import keras\n",
    "from keras.models import Sequential\n",
    "from keras.layers import Dense\n",
    "from keras.layers import LSTM\n",
    "from keras.layers import Dropout\n",
    "from sklearn.preprocessing import MinMaxScaler\n",
    "from sklearn.metrics import mean_squared_error\n",
    "import numpy as np\n",
    "\n",
    "dataset = pandas.read_csv('train.csv', usecols=[1], engine='python')\n",
    "dataset = dataset[:1600]\n",
    "plt.figure(figsize=(25,9))\n",
    "plt.plot(dataset)\n",
    "plt.show()"
   ]
  },
  {
   "cell_type": "code",
   "execution_count": 2,
   "metadata": {},
   "outputs": [],
   "source": [
    "def mean_absolute_percentage_error(y_true, y_pred):\n",
    "    y_true, y_pred = np.array(y_true), np.array(y_pred)\n",
    "    return np.mean(np.abs((y_true - y_pred) / y_true)) * 100"
   ]
  },
  {
   "cell_type": "code",
   "execution_count": 3,
   "metadata": {},
   "outputs": [],
   "source": [
    "scaler = MinMaxScaler(feature_range=(0, 100))\n",
    "dataset = scaler.fit_transform(dataset)\n",
    "train_size = int(len(dataset) * 0.8)\n",
    "test_size = len(dataset) - train_size\n",
    "train, test = dataset[0:train_size,:], dataset[train_size:len(dataset),:]\n",
    "train_rev, test_rev = train[::-1], test[::-1]"
   ]
  },
  {
   "cell_type": "code",
   "execution_count": 4,
   "metadata": {},
   "outputs": [],
   "source": [
    "def create_dataset(dataset, look_back = 1):\n",
    "    dataX, dataY = [], []\n",
    "    \n",
    "    for i in range(len(dataset) - look_back - 1):\n",
    "        a = dataset[i:(i + look_back), 0]\n",
    "        dataX.append(a)\n",
    "        dataY.append(dataset[i + look_back, 0])\n",
    "        \n",
    "    return numpy.array(dataX), numpy.array(dataY)"
   ]
  },
  {
   "cell_type": "code",
   "execution_count": 6,
   "metadata": {},
   "outputs": [],
   "source": [
    "look_back = 1\n",
    "trainX, trainY = create_dataset(train, look_back)\n",
    "testX, testY = create_dataset(test, look_back)\n",
    "\n",
    "trainX_rev, trainY_rev = create_dataset(train_rev, look_back)\n",
    "testX_rev, testY_rev = create_dataset(test_rev, look_back)\n",
    "\n",
    "\n",
    "# reshape input to be [samples, time steps, features]\n",
    "trainX = numpy.reshape(trainX, (trainX.shape[0], trainX.shape[1], 1))\n",
    "testX = numpy.reshape(testX, (testX.shape[0], testX.shape[1], 1))\n",
    "\n",
    "trainX_rev = numpy.reshape(trainX_rev, (trainX_rev.shape[0], trainX_rev.shape[1], 1))\n",
    "testX_rev = numpy.reshape(testX_rev, (testX_rev.shape[0], testX_rev.shape[1], 1))\n",
    "\n",
    "\n",
    "trainY_inverse = scaler.inverse_transform([trainY])\n",
    "testY_inverse = scaler.inverse_transform([testY])\n",
    "\n",
    "trainY_rev_inverse = scaler.inverse_transform([trainY_rev])\n",
    "testY_rev_inverse = scaler.inverse_transform([testY_rev])"
   ]
  },
  {
   "cell_type": "code",
   "execution_count": 7,
   "metadata": {},
   "outputs": [
    {
     "data": {
      "text/plain": [
       "(316, 1, 1)"
      ]
     },
     "execution_count": 7,
     "metadata": {},
     "output_type": "execute_result"
    }
   ],
   "source": [
    "testX.shape"
   ]
  },
  {
   "cell_type": "markdown",
   "metadata": {},
   "source": [
    " ---\n",
    " We have successfully loaded the data: trainX, trainY, testX, testY  \n",
    " Start initiating model and training"
   ]
  },
  {
   "cell_type": "markdown",
   "metadata": {},
   "source": [
    "## Loss function using Mean Square Error"
   ]
  },
  {
   "cell_type": "code",
   "execution_count": 9,
   "metadata": {},
   "outputs": [
    {
     "name": "stdout",
     "output_type": "stream",
     "text": [
      "_________________________________________________________________\n",
      "Layer (type)                 Output Shape              Param #   \n",
      "=================================================================\n",
      "lstm_6 (LSTM)                (None, 1, 256)            264192    \n",
      "_________________________________________________________________\n",
      "dropout_6 (Dropout)          (None, 1, 256)            0         \n",
      "_________________________________________________________________\n",
      "lstm_7 (LSTM)                (None, 1, 256)            525312    \n",
      "_________________________________________________________________\n",
      "dropout_7 (Dropout)          (None, 1, 256)            0         \n",
      "_________________________________________________________________\n",
      "lstm_8 (LSTM)                (None, 1, 256)            525312    \n",
      "_________________________________________________________________\n",
      "dropout_8 (Dropout)          (None, 1, 256)            0         \n",
      "_________________________________________________________________\n",
      "lstm_9 (LSTM)                (None, 1, 128)            197120    \n",
      "_________________________________________________________________\n",
      "dropout_9 (Dropout)          (None, 1, 128)            0         \n",
      "_________________________________________________________________\n",
      "lstm_10 (LSTM)               (None, 128)               131584    \n",
      "_________________________________________________________________\n",
      "dropout_10 (Dropout)         (None, 128)               0         \n",
      "_________________________________________________________________\n",
      "dense_2 (Dense)              (None, 1)                 129       \n",
      "=================================================================\n",
      "Total params: 1,643,649\n",
      "Trainable params: 1,643,649\n",
      "Non-trainable params: 0\n",
      "_________________________________________________________________\n"
     ]
    }
   ],
   "source": [
    "try: \n",
    "    model_mse = keras.models.load_model('model_mse.h5')\n",
    "except:\n",
    "    model_mse = Sequential()\n",
    "    model_mse.add(LSTM(256, input_shape=(trainX.shape[1], trainX.shape[2]), return_sequences = True))\n",
    "    model_mse.add(Dropout(0.2))\n",
    "    model_mse.add(LSTM(256, return_sequences = True))\n",
    "    model_mse.add(Dropout(0.2))\n",
    "    model_mse.add(LSTM(256, return_sequences = True))\n",
    "    model_mse.add(Dropout(0.2))\n",
    "    model_mse.add(LSTM(128, return_sequences = True))\n",
    "    model_mse.add(Dropout(0.2))\n",
    "    model_mse.add(LSTM(128))\n",
    "    model_mse.add(Dropout(0.2))\n",
    "\n",
    "    model_mse.add(Dense(1))\n",
    "    model_mse.compile(loss='mean_squared_error', optimizer='adam')\n",
    "\n",
    "model_mse.summary()"
   ]
  },
  {
   "cell_type": "code",
   "execution_count": 11,
   "metadata": {},
   "outputs": [
    {
     "name": "stdout",
     "output_type": "stream",
     "text": [
      "Epoch 1/100\n",
      " - 13s - loss: 51.2633\n",
      "Epoch 2/100\n",
      " - 12s - loss: 35.1522\n",
      "Epoch 3/100\n",
      " - 12s - loss: 32.6098\n",
      "Epoch 4/100\n",
      " - 12s - loss: 32.9950\n",
      "Epoch 5/100\n",
      " - 12s - loss: 32.1598\n",
      "Epoch 6/100\n",
      " - 12s - loss: 33.5104\n",
      "Epoch 7/100\n",
      " - 12s - loss: 32.2098\n",
      "Epoch 8/100\n",
      " - 12s - loss: 31.2511\n",
      "Epoch 9/100\n",
      " - 12s - loss: 32.1203\n",
      "Epoch 10/100\n",
      " - 12s - loss: 31.6691\n",
      "Epoch 11/100\n",
      " - 12s - loss: 30.3637\n",
      "Epoch 12/100\n",
      " - 12s - loss: 30.9301\n",
      "Epoch 13/100\n",
      " - 12s - loss: 30.7335\n",
      "Epoch 14/100\n"
     ]
    }
   ],
   "source": [
    "try:\n",
    "    model_mse.fit(trainX, trainY, epochs = 100, batch_size= 1, verbose=2)\n",
    "    model_mse.save('model_mse.h5')\n",
    "except KeyboardInterrupt:\n",
    "    model_mse.save('model_mse.h5')"
   ]
  },
  {
   "cell_type": "code",
   "execution_count": 12,
   "metadata": {},
   "outputs": [
    {
     "name": "stdout",
     "output_type": "stream",
     "text": [
      "Epoch 1/100\n",
      " - 12s - loss: 29.2126\n",
      "Epoch 2/100\n",
      " - 12s - loss: 29.9215\n",
      "Epoch 3/100\n",
      " - 12s - loss: 30.1911\n",
      "Epoch 4/100\n",
      " - 12s - loss: 30.3173\n",
      "Epoch 5/100\n",
      " - 12s - loss: 29.7733\n",
      "Epoch 6/100\n",
      " - 12s - loss: 30.6315\n",
      "Epoch 7/100\n",
      " - 12s - loss: 29.6998\n",
      "Epoch 8/100\n",
      " - 12s - loss: 30.2226\n",
      "Epoch 9/100\n",
      " - 12s - loss: 31.0527\n",
      "Epoch 10/100\n",
      " - 12s - loss: 29.8749\n",
      "Epoch 11/100\n"
     ]
    }
   ],
   "source": [
    "try:\n",
    "    model_mse.fit(trainX_rev, trainY_rev, epochs = 100, batch_size= 1, verbose=2)\n",
    "    model_mse.save('model_mse.h5')\n",
    "except KeyboardInterrupt:\n",
    "    model_mse.save('model_mse.h5')"
   ]
  },
  {
   "cell_type": "code",
   "execution_count": 10,
   "metadata": {},
   "outputs": [],
   "source": [
    "model_mse.save('model_mse.h5')"
   ]
  },
  {
   "cell_type": "code",
   "execution_count": 13,
   "metadata": {},
   "outputs": [],
   "source": [
    "trainPredict = model_mse.predict(trainX)\n",
    "testPredict = model_mse.predict(testX)\n",
    "\n",
    "trainPredict_mse = scaler.inverse_transform(trainPredict)\n",
    "testPredict_mse = scaler.inverse_transform(testPredict)"
   ]
  },
  {
   "cell_type": "code",
   "execution_count": 14,
   "metadata": {},
   "outputs": [
    {
     "name": "stdout",
     "output_type": "stream",
     "text": [
      "Train Score: 0.40 RMSE\n",
      "Test Score: 1.10 RMSE\n"
     ]
    },
    {
     "data": {
      "image/png": "[encoded data removed]",
      "text/plain": [
       "<matplotlib.figure.Figure at 0x7fa40f6b6588>"
      ]
     },
     "metadata": {},
     "output_type": "display_data"
    }
   ],
   "source": [
    "trainScore = math.sqrt(mean_squared_error(trainY_inverse[0], trainPredict_mse[:,0]))\n",
    "print('Train Score: %.2f RMSE' % (trainScore))\n",
    "testScore = math.sqrt(mean_squared_error(testY_inverse[0], testPredict_mse[:,0]))\n",
    "print('Test Score: %.2f RMSE' % (testScore))\n",
    "# shift train predictions for plotting\n",
    "trainPredictPlot = numpy.empty_like(dataset)\n",
    "trainPredictPlot[:, :] = numpy.nan\n",
    "trainPredictPlot[look_back:len(trainPredict_mse)+look_back, :] = trainPredict_mse\n",
    "# shift test predictions for plotting\n",
    "testPredictPlot = numpy.empty_like(dataset)\n",
    "testPredictPlot[:, :] = numpy.nan\n",
    "testPredictPlot[len(trainPredict_mse)+(look_back*2)+1:len(dataset)-1, :] = testPredict_mse\n",
    "# plot baseline and predictions\n",
    "plt.figure(figsize=(25,9))\n",
    "plt.plot(scaler.inverse_transform(dataset)[1600:])\n",
    "plt.plot(trainPredictPlot[1600:])\n",
    "plt.plot(testPredictPlot[1600:])\n",
    "plt.show()"
   ]
  },
  {
   "cell_type": "markdown",
   "metadata": {},
   "source": [
    "## Loss Function using MAPE\n",
    "We can simply get rid of this part. it performs so bad."
   ]
  },
  {
   "cell_type": "code",
   "execution_count": 20,
   "metadata": {},
   "outputs": [
    {
     "name": "stdout",
     "output_type": "stream",
     "text": [
      "_________________________________________________________________\n",
      "Layer (type)                 Output Shape              Param #   \n",
      "=================================================================\n",
      "lstm_27 (LSTM)               (None, 1, 256)            264192    \n",
      "_________________________________________________________________\n",
      "dropout_26 (Dropout)         (None, 1, 256)            0         \n",
      "_________________________________________________________________\n",
      "lstm_28 (LSTM)               (None, 1, 256)            525312    \n",
      "_________________________________________________________________\n",
      "dropout_27 (Dropout)         (None, 1, 256)            0         \n",
      "_________________________________________________________________\n",
      "lstm_29 (LSTM)               (None, 1, 256)            525312    \n",
      "_________________________________________________________________\n",
      "dropout_28 (Dropout)         (None, 1, 256)            0         \n",
      "_________________________________________________________________\n",
      "lstm_30 (LSTM)               (None, 1, 128)            197120    \n",
      "_________________________________________________________________\n",
      "dropout_29 (Dropout)         (None, 1, 128)            0         \n",
      "_________________________________________________________________\n",
      "lstm_31 (LSTM)               (None, 128)               131584    \n",
      "_________________________________________________________________\n",
      "dropout_30 (Dropout)         (None, 128)               0         \n",
      "_________________________________________________________________\n",
      "dense_6 (Dense)              (None, 1)                 129       \n",
      "=================================================================\n",
      "Total params: 1,643,649\n",
      "Trainable params: 1,643,649\n",
      "Non-trainable params: 0\n",
      "_________________________________________________________________\n"
     ]
    }
   ],
   "source": [
    "try: \n",
    "    model_mape = keras.models.load_model('model_mape.h5')\n",
    "except:\n",
    "\n",
    "    model_mape = Sequential()\n",
    "    \n",
    "    model_mape.add(LSTM(256, input_shape=(trainX.shape[1], trainX.shape[2]), return_sequences = True))\n",
    "    model_mape.add(Dropout(0.2))\n",
    "    model_mape.add(LSTM(256, return_sequences = True))\n",
    "    model_mape.add(Dropout(0.2))\n",
    "    model_mape.add(LSTM(256, return_sequences = True))\n",
    "    model_mape.add(Dropout(0.2))\n",
    "    model_mape.add(LSTM(128, return_sequences = True))\n",
    "    model_mape.add(Dropout(0.2))\n",
    "    model_mape.add(LSTM(128))\n",
    "    model_mape.add(Dropout(0.2))\n",
    "\n",
    "    model_mape.add(Dense(1))\n",
    "    model_mape.compile(loss='mean_absolute_percentage_error', optimizer='adam')\n",
    "\n",
    "model_mape.summary()"
   ]
  },
  {
   "cell_type": "code",
   "execution_count": 37,
   "metadata": {},
   "outputs": [
    {
     "name": "stdout",
     "output_type": "stream",
     "text": [
      "Epoch 1/100\n",
      "31s - loss: 52072.7675\n",
      "Epoch 2/100\n",
      "30s - loss: 193226.4996\n",
      "Epoch 3/100\n",
      "29s - loss: 94305.1717\n",
      "Epoch 4/100\n",
      "29s - loss: 136068.1443\n",
      "Epoch 5/100\n",
      "31s - loss: 85795.1661\n",
      "Epoch 6/100\n",
      "29s - loss: 71044.2786\n",
      "Epoch 7/100\n",
      "30s - loss: 102927.6033\n",
      "Epoch 8/100\n",
      "30s - loss: 13229.3152\n",
      "Epoch 9/100\n",
      "31s - loss: 135314.2571\n",
      "Epoch 10/100\n",
      "30s - loss: 165042.6521\n",
      "Epoch 11/100\n",
      "30s - loss: 174218.9876\n",
      "Epoch 12/100\n",
      "31s - loss: 866.8169\n",
      "Epoch 13/100\n",
      "30s - loss: 196044.1241\n",
      "Epoch 14/100\n",
      "30s - loss: 49207.1076\n",
      "Epoch 15/100\n",
      "32s - loss: 116862.2784\n",
      "Epoch 16/100\n",
      "39s - loss: 35268.5608\n",
      "Epoch 17/100\n",
      "34s - loss: 108445.6044\n",
      "Epoch 18/100\n",
      "33s - loss: 47590.8388\n",
      "Epoch 19/100\n",
      "35s - loss: 78974.7439\n",
      "Epoch 20/100\n",
      "34s - loss: 58174.7533\n",
      "Epoch 21/100\n",
      "30s - loss: 45944.1561\n",
      "Epoch 22/100\n",
      "29s - loss: 110326.2441\n",
      "Epoch 23/100\n",
      "29s - loss: 133855.1666\n",
      "Epoch 24/100\n",
      "29s - loss: 63692.9755\n",
      "Epoch 25/100\n",
      "31s - loss: 69660.8247\n",
      "Epoch 26/100\n",
      "32s - loss: 77231.8763\n",
      "Epoch 27/100\n",
      "32s - loss: 10214.8401\n",
      "Epoch 28/100\n",
      "33s - loss: 180601.4073\n",
      "Epoch 29/100\n",
      "32s - loss: 25880.1413\n",
      "Epoch 30/100\n",
      "43s - loss: 98051.7015\n",
      "Epoch 31/100\n",
      "43s - loss: 40581.6055\n",
      "Epoch 32/100\n",
      "43s - loss: 115705.3862\n",
      "Epoch 33/100\n",
      "44s - loss: 43614.7004\n",
      "Epoch 34/100\n",
      "45s - loss: 46143.6467\n",
      "Epoch 35/100\n",
      "47s - loss: 46844.8935\n",
      "Epoch 36/100\n",
      "43s - loss: 31817.7021\n",
      "Epoch 37/100\n",
      "43s - loss: 63278.6235\n",
      "Epoch 38/100\n",
      "44s - loss: 32376.6585\n",
      "Epoch 39/100\n",
      "44s - loss: 75738.1744\n",
      "Epoch 40/100\n"
     ]
    }
   ],
   "source": [
    "try:\n",
    "    model_mape.fit(trainX, trainY, epochs = 100, batch_size= 1, verbose=2)\n",
    "except KeyboardInterrupt:\n",
    "    model_mape.save('model_mape.h5')"
   ]
  },
  {
   "cell_type": "code",
   "execution_count": 38,
   "metadata": {
    "collapsed": true
   },
   "outputs": [],
   "source": [
    "trainPredict = model_mape.predict(trainX)\n",
    "testPredict = model_mape.predict(testX)\n",
    "\n",
    "trainPredict_mape = scaler.inverse_transform(trainPredict)\n",
    "testPredict_mape = scaler.inverse_transform(testPredict)"
   ]
  },
  {
   "cell_type": "code",
   "execution_count": 40,
   "metadata": {},
   "outputs": [
    {
     "name": "stdout",
     "output_type": "stream",
     "text": [
      "Train Score: 10.29 RMSE\n",
      "Test Score: 10.33 RMSE\n"
     ]
    },
    {
     "data": {
      "image/png": "[encoded data removed]",
      "text/plain": [
       "<matplotlib.figure.Figure at 0x1c3ca43a20>"
      ]
     },
     "metadata": {},
     "output_type": "display_data"
    }
   ],
   "source": [
    "trainScore = math.sqrt(mean_absolute_percentage_error(trainY_inverse[0], trainPredict_mape[:,0]))\n",
    "print('Train Score: %.2f RMSE' % (trainScore))\n",
    "testScore = math.sqrt(mean_absolute_percentage_error(testY_inverse[0], testPredict_mape[:,0]))\n",
    "print('Test Score: %.2f RMSE' % (testScore))\n",
    "# shift train predictions for plotting\n",
    "trainPredictPlot = numpy.empty_like(dataset)\n",
    "trainPredictPlot[:, :] = numpy.nan\n",
    "trainPredictPlot[look_back:len(trainPredict)+look_back, :] = trainPredict_mape\n",
    "# shift test predictions for plotting\n",
    "testPredictPlot = numpy.empty_like(dataset)\n",
    "testPredictPlot[:, :] = numpy.nan\n",
    "testPredictPlot[len(trainPredict)+(look_back*2)+1:len(dataset)-1, :] = testPredict_mape\n",
    "# plot baseline and predictions\n",
    "plt.figure(figsize=(25,9))\n",
    "plt.plot(scaler.inverse_transform(dataset))\n",
    "plt.plot(100 * trainPredictPlot)\n",
    "plt.plot(100 * testPredictPlot)\n",
    "plt.show()"
   ]
  },
  {
   "cell_type": "code",
   "execution_count": null,
   "metadata": {
    "collapsed": true
   },
   "outputs": [],
   "source": []
  }
 ],
 "metadata": {
  "kernelspec": {
   "display_name": "Python [default]",
   "language": "python",
   "name": "python3"
  },
  "language_info": {
   "codemirror_mode": {
    "name": "ipython",
    "version": 3
   },
   "file_extension": ".py",
   "mimetype": "text/x-python",
   "name": "python",
   "nbconvert_exporter": "python",
   "pygments_lexer": "ipython3",
   "version": "3.5.4"
  }
 },
 "nbformat": 4,
 "nbformat_minor": 2
}
